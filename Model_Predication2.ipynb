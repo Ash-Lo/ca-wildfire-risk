{
 "cells": [
  {
   "cell_type": "code",
   "execution_count": 1,
   "metadata": {},
   "outputs": [],
   "source": [
    "import numpy as np\n",
    "import pandas as pd\n",
    "\n",
    "from geopy.geocoders import Nominatim"
   ]
  },
  {
   "cell_type": "markdown",
   "metadata": {},
   "source": [
    "## Wildfire Data"
   ]
  },
  {
   "cell_type": "code",
   "execution_count": 2,
   "metadata": {},
   "outputs": [
    {
     "data": {
      "text/plain": [
       "'Shasta'"
      ]
     },
     "execution_count": 2,
     "metadata": {},
     "output_type": "execute_result"
    }
   ],
   "source": [
    "geolocator = Nominatim(user_agent=\"example app\")\n",
    "Counties = ['Alameda','Alpine','Amador','Butte','Calaveras','Colusa','Contra Costa','Del Norte','El Dorado','Fresno','Glenn','Humboldt','Imperial','Inyo','Kern','Kings','Lake','Lassen','Los Angeles','Madera','Marin','Mariposa','Mendocino','Merced','Modoc','Mono','Monterey','Napa','Nevada','Orange','Placer','Plumas','Riverside','Sacramento','San Benito','San Bernardino','San Diego','San Francisco','San Joaquin','San Luis Obispo','San Mateo','Santa Barbara','Santa Clara','Santa Cruz','Shasta','Sierra','Siskiyou','Solano','Sonoma','Stanislaus','Sutter','Tehama','Trinity','Tulare','Tuolumne','Ventura','Yolo','Yuba']\n",
    "\n",
    "def retCounty(a,x,y):\n",
    "    try:\n",
    "        adrs = geolocator.reverse(str(x)+','+str(y))\n",
    "        if(adrs==None):\n",
    "            if isinstance(a, str):\n",
    "                return a\n",
    "            else:\n",
    "                print(str(x)+','+str(y), adrs, a)\n",
    "                return ''\n",
    "\n",
    "        adrs = adrs[0].split(',')\n",
    "        for x in Counties:\n",
    "            for w in adrs:\n",
    "                if x in w:\n",
    "                    return x\n",
    "                \n",
    "        if isinstance(a, str):\n",
    "            return a\n",
    "        else:\n",
    "            print(str(x)+','+str(y), a)\n",
    "            return ''\n",
    "\n",
    "\n",
    "    except:\n",
    "        if isinstance(a, str):\n",
    "            return a\n",
    "        else:\n",
    "            print(str(x)+','+str(y), a)\n",
    "            return ''\n",
    "        \n",
    "\n",
    "retCounty('?',40.774000,-122.309000)"
   ]
  },
  {
   "cell_type": "code",
   "execution_count": null,
   "metadata": {},
   "outputs": [],
   "source": [
    "data = pd.read_csv('./mapdataall.csv')\n",
    "my_data = data[['incident_latitude','incident_longitude','incident_dateonly_created','incident_control','incident_containment','incident_acres_burned','incident_county','incident_name','calfire_incident','is_active','incident_id','incident_type']]\n",
    "my_data['County'] = my_data.apply(lambda row: retCounty(row.incident_county,row.incident_latitude,row.incident_longitude), axis=1)\n",
    "\n",
    "my_data.to_csv('Processed_County.csv')"
   ]
  },
  {
   "cell_type": "code",
   "execution_count": 4,
   "metadata": {},
   "outputs": [
    {
     "data": {
      "text/plain": [
       "Index(['incident_name', 'incident_is_final', 'incident_date_last_update',\n",
       "       'incident_date_created', 'incident_administrative_unit',\n",
       "       'incident_administrative_unit_url', 'incident_county',\n",
       "       'incident_location', 'incident_acres_burned', 'incident_containment',\n",
       "       'incident_control', 'incident_cooperating_agencies',\n",
       "       'incident_longitude', 'incident_latitude', 'incident_type',\n",
       "       'incident_id', 'incident_url', 'incident_date_extinguished',\n",
       "       'incident_dateonly_extinguished', 'incident_dateonly_created',\n",
       "       'is_active', 'calfire_incident', 'notification_desired'],\n",
       "      dtype='object')"
      ]
     },
     "execution_count": 4,
     "metadata": {},
     "output_type": "execute_result"
    }
   ],
   "source": [
    "data = pd.read_csv('./mapdataall.csv')\n",
    "data.columns"
   ]
  },
  {
   "cell_type": "code",
   "execution_count": 5,
   "metadata": {},
   "outputs": [],
   "source": [
    "my_data = pd.read_csv('./Processed_County.csv')\n",
    "my_data[\"data_id\"] = my_data[\"County\"] + '-'+ pd.to_datetime(my_data['incident_dateonly_created'].copy()).dt.strftime('%Y-%m').astype(str)\n",
    "my_data = my_data.drop(columns=['incident_dateonly_created','incident_county','incident_latitude','incident_longitude'])\n",
    "my_data.reset_index()\n",
    "wildfire_data = my_data.groupby(by='data_id').sum()\n",
    "wildfire_data = wildfire_data.dropna()\n",
    "wildfire_data = wildfire_data[['incident_containment','incident_acres_burned','calfire_incident']]"
   ]
  },
  {
   "cell_type": "code",
   "execution_count": 6,
   "metadata": {},
   "outputs": [
    {
     "data": {
      "text/html": [
       "<div>\n",
       "<style scoped>\n",
       "    .dataframe tbody tr th:only-of-type {\n",
       "        vertical-align: middle;\n",
       "    }\n",
       "\n",
       "    .dataframe tbody tr th {\n",
       "        vertical-align: top;\n",
       "    }\n",
       "\n",
       "    .dataframe thead th {\n",
       "        text-align: right;\n",
       "    }\n",
       "</style>\n",
       "<table border=\"1\" class=\"dataframe\">\n",
       "  <thead>\n",
       "    <tr style=\"text-align: right;\">\n",
       "      <th></th>\n",
       "      <th>incident_containment</th>\n",
       "      <th>incident_acres_burned</th>\n",
       "      <th>calfire_incident</th>\n",
       "    </tr>\n",
       "    <tr>\n",
       "      <th>data_id</th>\n",
       "      <th></th>\n",
       "      <th></th>\n",
       "      <th></th>\n",
       "    </tr>\n",
       "  </thead>\n",
       "  <tbody>\n",
       "    <tr>\n",
       "      <th>Alameda-2013-07</th>\n",
       "      <td>200.0</td>\n",
       "      <td>88.0</td>\n",
       "      <td>2</td>\n",
       "    </tr>\n",
       "    <tr>\n",
       "      <th>Alameda-2016-06</th>\n",
       "      <td>100.0</td>\n",
       "      <td>211.0</td>\n",
       "      <td>1</td>\n",
       "    </tr>\n",
       "    <tr>\n",
       "      <th>Alameda-2017-08</th>\n",
       "      <td>200.0</td>\n",
       "      <td>244.0</td>\n",
       "      <td>1</td>\n",
       "    </tr>\n",
       "    <tr>\n",
       "      <th>Alameda-2017-09</th>\n",
       "      <td>200.0</td>\n",
       "      <td>177.0</td>\n",
       "      <td>1</td>\n",
       "    </tr>\n",
       "    <tr>\n",
       "      <th>Alameda-2017-10</th>\n",
       "      <td>100.0</td>\n",
       "      <td>116.0</td>\n",
       "      <td>1</td>\n",
       "    </tr>\n",
       "    <tr>\n",
       "      <th>...</th>\n",
       "      <td>...</td>\n",
       "      <td>...</td>\n",
       "      <td>...</td>\n",
       "    </tr>\n",
       "    <tr>\n",
       "      <th>Yuba-2020-03</th>\n",
       "      <td>0.0</td>\n",
       "      <td>0.0</td>\n",
       "      <td>0</td>\n",
       "    </tr>\n",
       "    <tr>\n",
       "      <th>Yuba-2020-07</th>\n",
       "      <td>100.0</td>\n",
       "      <td>500.0</td>\n",
       "      <td>0</td>\n",
       "    </tr>\n",
       "    <tr>\n",
       "      <th>Yuba-2020-08</th>\n",
       "      <td>100.0</td>\n",
       "      <td>600.0</td>\n",
       "      <td>0</td>\n",
       "    </tr>\n",
       "    <tr>\n",
       "      <th>Yuba-2020-09</th>\n",
       "      <td>100.0</td>\n",
       "      <td>1311.0</td>\n",
       "      <td>1</td>\n",
       "    </tr>\n",
       "    <tr>\n",
       "      <th>Yuba-2020-10</th>\n",
       "      <td>100.0</td>\n",
       "      <td>56.0</td>\n",
       "      <td>1</td>\n",
       "    </tr>\n",
       "  </tbody>\n",
       "</table>\n",
       "<p>999 rows × 3 columns</p>\n",
       "</div>"
      ],
      "text/plain": [
       "                 incident_containment  incident_acres_burned  calfire_incident\n",
       "data_id                                                                       \n",
       "Alameda-2013-07                 200.0                   88.0                 2\n",
       "Alameda-2016-06                 100.0                  211.0                 1\n",
       "Alameda-2017-08                 200.0                  244.0                 1\n",
       "Alameda-2017-09                 200.0                  177.0                 1\n",
       "Alameda-2017-10                 100.0                  116.0                 1\n",
       "...                               ...                    ...               ...\n",
       "Yuba-2020-03                      0.0                    0.0                 0\n",
       "Yuba-2020-07                    100.0                  500.0                 0\n",
       "Yuba-2020-08                    100.0                  600.0                 0\n",
       "Yuba-2020-09                    100.0                 1311.0                 1\n",
       "Yuba-2020-10                    100.0                   56.0                 1\n",
       "\n",
       "[999 rows x 3 columns]"
      ]
     },
     "execution_count": 6,
     "metadata": {},
     "output_type": "execute_result"
    }
   ],
   "source": [
    "wildfire_data"
   ]
  },
  {
   "cell_type": "code",
   "execution_count": 7,
   "metadata": {},
   "outputs": [],
   "source": [
    "wildfire_data.to_csv('Weather_data.csv')"
   ]
  },
  {
   "cell_type": "markdown",
   "metadata": {},
   "source": [
    "## Weather Dataset"
   ]
  },
  {
   "cell_type": "code",
   "execution_count": 8,
   "metadata": {},
   "outputs": [],
   "source": [
    "import requests\n",
    "import json\n",
    "import time\n",
    "import csv"
   ]
  },
  {
   "cell_type": "markdown",
   "metadata": {},
   "source": [
    "## Data Scraping\n",
    "- <mark>Note: replace api-key by the one you acquired<mark>"
   ]
  },
  {
   "cell_type": "code",
   "execution_count": 20,
   "metadata": {},
   "outputs": [
    {
     "name": "stdout",
     "output_type": "stream",
     "text": [
      "0: Alameda\n",
      "1: Alpine\n",
      "2: Amador\n",
      "3: Butte\n",
      "4: Calaveras\n",
      "5: Colusa\n",
      "6: Contra Costa\n",
      "7: Del Norte\n",
      "8: El Dorado\n",
      "9: Fresno\n",
      "10: Glenn\n",
      "11: Humboldt\n",
      "12: Imperial\n",
      "13: Inyo\n",
      "14: Kern\n",
      "15: Kings\n",
      "16: Lake\n",
      "17: Lassen\n",
      "18: Los Angeles\n",
      "19: Madera\n",
      "20: Marin\n",
      "21: Mariposa\n",
      "22: Mendocino\n",
      "23: Merced\n",
      "24: Modoc\n",
      "25: Mono\n",
      "26: Monterey\n",
      "27: Napa\n",
      "28: Nevada\n",
      "29: Orange\n",
      "30: Placer\n",
      "31: Plumas\n",
      "32: Riverside\n",
      "33: Sacramento\n",
      "34: San Benito\n",
      "35: San Bernardino\n",
      "36: San Diego\n",
      "37: San Francisco\n",
      "38: San Joaquin\n",
      "39: San Luis Obispo\n",
      "40: San Mateo\n",
      "41: Santa Barbara\n",
      "42: Santa Clara\n",
      "43: Santa Cruz\n",
      "44: Shasta\n",
      "45: Sierra\n",
      "46: Siskiyou\n",
      "47: Solano\n",
      "48: Sonoma\n",
      "49: Stanislaus\n",
      "50: Sutter\n",
      "51: Tehama\n",
      "52: Trinity\n",
      "53: Tulare\n",
      "54: Tuolumne\n",
      "55: Ventura\n",
      "56: Yolo\n",
      "57: Yuba\n"
     ]
    }
   ],
   "source": [
    "Counties = ['Alameda','Alpine','Amador','Butte','Calaveras','Colusa','Contra Costa','Del Norte','El Dorado','Fresno','Glenn','Humboldt','Imperial','Inyo','Kern','Kings','Lake','Lassen','Los Angeles','Madera','Marin','Mariposa','Mendocino','Merced','Modoc','Mono','Monterey','Napa','Nevada','Orange','Placer','Plumas','Riverside','Sacramento','San Benito','San Bernardino','San Diego','San Francisco','San Joaquin','San Luis Obispo','San Mateo','Santa Barbara','Santa Clara','Santa Cruz','Shasta','Sierra','Siskiyou','Solano','Sonoma','Stanislaus','Sutter','Tehama','Trinity','Tulare','Tuolumne','Ventura','Yolo','Yuba']\n",
    "for i,loc in enumerate(Counties):\n",
    "    r = requests.get('https://api.oikolab.com/weather',\n",
    "                     params={'param': ['temperature','wind_speed','total_precipitation','snowfall','relative_humidity','surface_pressure','humidex'],\n",
    "                             'start': '2013-01-01',\n",
    "                             'end': '2020-12-31',\n",
    "                             'freq': 'D',\n",
    "                             'location': loc,\n",
    "                             'api-key': 'e0bd5274d90f45ad9bb43fd6b9037238'}\n",
    "                     )\n",
    "    weather_data = json.loads(r.json()['data'])\n",
    "    df = pd.DataFrame(index=pd.to_datetime(weather_data['index'], \n",
    "                                           unit='s'),\n",
    "                      data=weather_data['data'],\n",
    "                      columns=weather_data['columns'])\n",
    "    df.reset_index(inplace=True)\n",
    "    df = df.rename(columns = {'index':'date'})\n",
    "    df.to_csv(loc+'.csv',index=True)\n",
    "    print(f'{i}: {loc}')\n",
    "    if(i%10==9):\n",
    "        time.sleep(300)"
   ]
  },
  {
   "cell_type": "markdown",
   "metadata": {},
   "source": [
    "#### Data Cleaning"
   ]
  },
  {
   "cell_type": "code",
   "execution_count": 23,
   "metadata": {},
   "outputs": [],
   "source": [
    "Counties = ['Alameda','Alpine','Amador','Butte','Calaveras','Colusa','Contra Costa','Del Norte','El Dorado','Fresno','Glenn','Humboldt','Imperial','Inyo','Kern','Kings','Lake','Lassen','Los Angeles','Madera','Marin','Mariposa','Mendocino','Merced','Modoc','Mono','Monterey','Napa','Nevada','Orange','Placer','Plumas','Riverside','Sacramento','San Benito','San Bernardino','San Diego','San Francisco','San Joaquin','San Luis Obispo','San Mateo','Santa Barbara','Santa Clara','Santa Cruz','Shasta','Sierra','Siskiyou','Solano','Sonoma','Stanislaus','Sutter','Tehama','Trinity','Tulare','Tuolumne','Ventura','Yolo','Yuba']\n",
    "\n",
    "for loc in Counties:\n",
    "    tmp_df = pd.read_csv('./Counties/'+ loc +'.csv')\n",
    "    tmp_df['date'] = pd.to_datetime(tmp_df['date']).dt.strftime('%Y-%m').astype(str)\n",
    "    tmp_df = tmp_df.groupby(by='date').mean()\n",
    "\n",
    "    tmp_df['County'] = loc\n",
    "    tmp_df.reset_index(inplace=True)\n",
    "    tmp_df = tmp_df.rename(columns = {'index':'date'})\n",
    "\n",
    "    tmp_df = tmp_df[['date','temperature (degC)','wind_speed (m/s)','total_precipitation (mm of water equivalent)','relative_humidity (0-1)','surface_pressure (Pa)','humidex (degC)','County']]\n",
    "    tmp_df.to_csv('Counties_Cleaned/' + loc + '.csv')"
   ]
  },
  {
   "cell_type": "code",
   "execution_count": 24,
   "metadata": {},
   "outputs": [],
   "source": [
    "PerCounty_Data = []\n",
    "\n",
    "for loc in Counties:\n",
    "    tmp_df = pd.read_csv('Counties_Cleaned/' + loc + '.csv', index_col=None)\n",
    "    tmp_df = tmp_df[['date','temperature (degC)','wind_speed (m/s)','total_precipitation (mm of water equivalent)','relative_humidity (0-1)','surface_pressure (Pa)','humidex (degC)','County']]\n",
    "    PerCounty_Data.append(tmp_df)\n",
    "\n",
    "weather_data = pd.concat(PerCounty_Data, ignore_index=True)"
   ]
  },
  {
   "cell_type": "code",
   "execution_count": 25,
   "metadata": {},
   "outputs": [],
   "source": [
    "weather_data[\"data_id\"] = weather_data[\"County\"] + '-'+ weather_data[\"date\"]\n",
    "weather_data = weather_data.set_index('data_id')"
   ]
  },
  {
   "cell_type": "code",
   "execution_count": 15,
   "metadata": {},
   "outputs": [],
   "source": [
    "# weather_data.to_csv('Weather_data.csv')"
   ]
  },
  {
   "cell_type": "markdown",
   "metadata": {},
   "source": [
    "#### Combined Data"
   ]
  },
  {
   "cell_type": "code",
   "execution_count": 33,
   "metadata": {},
   "outputs": [],
   "source": [
    "all_data = pd.concat([wildfire_data, weather_data], axis=1)\n",
    "# all_data = all_data.fillna(0)\n",
    "all_data['y'] = all_data['incident_acres_burned']>0"
   ]
  },
  {
   "cell_type": "code",
   "execution_count": 34,
   "metadata": {},
   "outputs": [],
   "source": [
    "all_data = all_data.drop(columns=['calfire_incident','incident_acres_burned','incident_containment'])"
   ]
  },
  {
   "cell_type": "code",
   "execution_count": 35,
   "metadata": {},
   "outputs": [
    {
     "data": {
      "text/html": [
       "<div>\n",
       "<style scoped>\n",
       "    .dataframe tbody tr th:only-of-type {\n",
       "        vertical-align: middle;\n",
       "    }\n",
       "\n",
       "    .dataframe tbody tr th {\n",
       "        vertical-align: top;\n",
       "    }\n",
       "\n",
       "    .dataframe thead th {\n",
       "        text-align: right;\n",
       "    }\n",
       "</style>\n",
       "<table border=\"1\" class=\"dataframe\">\n",
       "  <thead>\n",
       "    <tr style=\"text-align: right;\">\n",
       "      <th></th>\n",
       "      <th>date</th>\n",
       "      <th>temperature (degC)</th>\n",
       "      <th>wind_speed (m/s)</th>\n",
       "      <th>total_precipitation (mm of water equivalent)</th>\n",
       "      <th>relative_humidity (0-1)</th>\n",
       "      <th>surface_pressure (Pa)</th>\n",
       "      <th>humidex (degC)</th>\n",
       "      <th>County</th>\n",
       "      <th>y</th>\n",
       "    </tr>\n",
       "  </thead>\n",
       "  <tbody>\n",
       "    <tr>\n",
       "      <th>Alameda-2013-01</th>\n",
       "      <td>2013-01</td>\n",
       "      <td>7.889032</td>\n",
       "      <td>1.757097</td>\n",
       "      <td>0.028710</td>\n",
       "      <td>0.759032</td>\n",
       "      <td>101213.421613</td>\n",
       "      <td>6.898710</td>\n",
       "      <td>Alameda</td>\n",
       "      <td>False</td>\n",
       "    </tr>\n",
       "    <tr>\n",
       "      <th>Alpine-2013-01</th>\n",
       "      <td>2013-01</td>\n",
       "      <td>5.518710</td>\n",
       "      <td>2.853871</td>\n",
       "      <td>0.071935</td>\n",
       "      <td>0.560968</td>\n",
       "      <td>85811.907742</td>\n",
       "      <td>2.783226</td>\n",
       "      <td>Alpine</td>\n",
       "      <td>False</td>\n",
       "    </tr>\n",
       "    <tr>\n",
       "      <th>Amador-2013-01</th>\n",
       "      <td>2013-01</td>\n",
       "      <td>12.397419</td>\n",
       "      <td>4.447419</td>\n",
       "      <td>0.096774</td>\n",
       "      <td>0.821935</td>\n",
       "      <td>101546.030968</td>\n",
       "      <td>13.470968</td>\n",
       "      <td>Amador</td>\n",
       "      <td>False</td>\n",
       "    </tr>\n",
       "    <tr>\n",
       "      <th>Butte-2013-01</th>\n",
       "      <td>2013-01</td>\n",
       "      <td>27.599355</td>\n",
       "      <td>1.026452</td>\n",
       "      <td>0.231935</td>\n",
       "      <td>0.792903</td>\n",
       "      <td>100825.498710</td>\n",
       "      <td>38.547097</td>\n",
       "      <td>Butte</td>\n",
       "      <td>False</td>\n",
       "    </tr>\n",
       "    <tr>\n",
       "      <th>Calaveras-2013-01</th>\n",
       "      <td>2013-01</td>\n",
       "      <td>6.312258</td>\n",
       "      <td>1.019032</td>\n",
       "      <td>0.038387</td>\n",
       "      <td>0.691290</td>\n",
       "      <td>96573.848387</td>\n",
       "      <td>4.515806</td>\n",
       "      <td>Calaveras</td>\n",
       "      <td>False</td>\n",
       "    </tr>\n",
       "    <tr>\n",
       "      <th>...</th>\n",
       "      <td>...</td>\n",
       "      <td>...</td>\n",
       "      <td>...</td>\n",
       "      <td>...</td>\n",
       "      <td>...</td>\n",
       "      <td>...</td>\n",
       "      <td>...</td>\n",
       "      <td>...</td>\n",
       "      <td>...</td>\n",
       "    </tr>\n",
       "    <tr>\n",
       "      <th>Riverside-2021-01</th>\n",
       "      <td>NaN</td>\n",
       "      <td>NaN</td>\n",
       "      <td>NaN</td>\n",
       "      <td>NaN</td>\n",
       "      <td>NaN</td>\n",
       "      <td>NaN</td>\n",
       "      <td>NaN</td>\n",
       "      <td>NaN</td>\n",
       "      <td>True</td>\n",
       "    </tr>\n",
       "    <tr>\n",
       "      <th>San Diego-2009-05</th>\n",
       "      <td>NaN</td>\n",
       "      <td>NaN</td>\n",
       "      <td>NaN</td>\n",
       "      <td>NaN</td>\n",
       "      <td>NaN</td>\n",
       "      <td>NaN</td>\n",
       "      <td>NaN</td>\n",
       "      <td>NaN</td>\n",
       "      <td>True</td>\n",
       "    </tr>\n",
       "    <tr>\n",
       "      <th>Santa Cruz-2021-01</th>\n",
       "      <td>NaN</td>\n",
       "      <td>NaN</td>\n",
       "      <td>NaN</td>\n",
       "      <td>NaN</td>\n",
       "      <td>NaN</td>\n",
       "      <td>NaN</td>\n",
       "      <td>NaN</td>\n",
       "      <td>NaN</td>\n",
       "      <td>True</td>\n",
       "    </tr>\n",
       "    <tr>\n",
       "      <th>State of Oregon-2019-08</th>\n",
       "      <td>NaN</td>\n",
       "      <td>NaN</td>\n",
       "      <td>NaN</td>\n",
       "      <td>NaN</td>\n",
       "      <td>NaN</td>\n",
       "      <td>NaN</td>\n",
       "      <td>NaN</td>\n",
       "      <td>NaN</td>\n",
       "      <td>True</td>\n",
       "    </tr>\n",
       "    <tr>\n",
       "      <th>Ventura-2021-01</th>\n",
       "      <td>NaN</td>\n",
       "      <td>NaN</td>\n",
       "      <td>NaN</td>\n",
       "      <td>NaN</td>\n",
       "      <td>NaN</td>\n",
       "      <td>NaN</td>\n",
       "      <td>NaN</td>\n",
       "      <td>NaN</td>\n",
       "      <td>True</td>\n",
       "    </tr>\n",
       "  </tbody>\n",
       "</table>\n",
       "<p>5580 rows × 9 columns</p>\n",
       "</div>"
      ],
      "text/plain": [
       "                            date  temperature (degC)  wind_speed (m/s)  \\\n",
       "Alameda-2013-01          2013-01            7.889032          1.757097   \n",
       "Alpine-2013-01           2013-01            5.518710          2.853871   \n",
       "Amador-2013-01           2013-01           12.397419          4.447419   \n",
       "Butte-2013-01            2013-01           27.599355          1.026452   \n",
       "Calaveras-2013-01        2013-01            6.312258          1.019032   \n",
       "...                          ...                 ...               ...   \n",
       "Riverside-2021-01            NaN                 NaN               NaN   \n",
       "San Diego-2009-05            NaN                 NaN               NaN   \n",
       "Santa Cruz-2021-01           NaN                 NaN               NaN   \n",
       "State of Oregon-2019-08      NaN                 NaN               NaN   \n",
       "Ventura-2021-01              NaN                 NaN               NaN   \n",
       "\n",
       "                         total_precipitation (mm of water equivalent)  \\\n",
       "Alameda-2013-01                                              0.028710   \n",
       "Alpine-2013-01                                               0.071935   \n",
       "Amador-2013-01                                               0.096774   \n",
       "Butte-2013-01                                                0.231935   \n",
       "Calaveras-2013-01                                            0.038387   \n",
       "...                                                               ...   \n",
       "Riverside-2021-01                                                 NaN   \n",
       "San Diego-2009-05                                                 NaN   \n",
       "Santa Cruz-2021-01                                                NaN   \n",
       "State of Oregon-2019-08                                           NaN   \n",
       "Ventura-2021-01                                                   NaN   \n",
       "\n",
       "                         relative_humidity (0-1)  surface_pressure (Pa)  \\\n",
       "Alameda-2013-01                         0.759032          101213.421613   \n",
       "Alpine-2013-01                          0.560968           85811.907742   \n",
       "Amador-2013-01                          0.821935          101546.030968   \n",
       "Butte-2013-01                           0.792903          100825.498710   \n",
       "Calaveras-2013-01                       0.691290           96573.848387   \n",
       "...                                          ...                    ...   \n",
       "Riverside-2021-01                            NaN                    NaN   \n",
       "San Diego-2009-05                            NaN                    NaN   \n",
       "Santa Cruz-2021-01                           NaN                    NaN   \n",
       "State of Oregon-2019-08                      NaN                    NaN   \n",
       "Ventura-2021-01                              NaN                    NaN   \n",
       "\n",
       "                         humidex (degC)     County      y  \n",
       "Alameda-2013-01                6.898710    Alameda  False  \n",
       "Alpine-2013-01                 2.783226     Alpine  False  \n",
       "Amador-2013-01                13.470968     Amador  False  \n",
       "Butte-2013-01                 38.547097      Butte  False  \n",
       "Calaveras-2013-01              4.515806  Calaveras  False  \n",
       "...                                 ...        ...    ...  \n",
       "Riverside-2021-01                   NaN        NaN   True  \n",
       "San Diego-2009-05                   NaN        NaN   True  \n",
       "Santa Cruz-2021-01                  NaN        NaN   True  \n",
       "State of Oregon-2019-08             NaN        NaN   True  \n",
       "Ventura-2021-01                     NaN        NaN   True  \n",
       "\n",
       "[5580 rows x 9 columns]"
      ]
     },
     "execution_count": 35,
     "metadata": {},
     "output_type": "execute_result"
    }
   ],
   "source": [
    "all_data.sort_values(by=['date','County'])"
   ]
  },
  {
   "cell_type": "code",
   "execution_count": 31,
   "metadata": {},
   "outputs": [
    {
     "data": {
      "text/plain": [
       "False    4598\n",
       "True      982\n",
       "Name: y, dtype: int64"
      ]
     },
     "execution_count": 31,
     "metadata": {},
     "output_type": "execute_result"
    }
   ],
   "source": [
    "all_data.y.value_counts()"
   ]
  },
  {
   "cell_type": "markdown",
   "metadata": {},
   "source": [
    "## Fire Probability\n",
    "- features: temperature, wind speed, total precipitation, relative_humidity\n",
    "- output: probability of wildfire happenings"
   ]
  },
  {
   "cell_type": "code",
   "execution_count": 44,
   "metadata": {},
   "outputs": [],
   "source": [
    "from sklearn.linear_model import LogisticRegression\n",
    "from sklearn.preprocessing import LabelEncoder\n",
    "from sklearn.model_selection import train_test_split"
   ]
  },
  {
   "cell_type": "code",
   "execution_count": 37,
   "metadata": {},
   "outputs": [],
   "source": [
    "model_data = all_data.dropna()"
   ]
  },
  {
   "cell_type": "code",
   "execution_count": 46,
   "metadata": {},
   "outputs": [],
   "source": [
    "# select features and prediction\n",
    "model_X = model_data[['temperature (degC)', 'wind_speed (m/s)', 'total_precipitation (mm of water equivalent)', 'relative_humidity (0-1)']]\n",
    "model_y = model_data[['y']].astype(int)"
   ]
  },
  {
   "cell_type": "code",
   "execution_count": 47,
   "metadata": {},
   "outputs": [],
   "source": [
    "# split test and train\n",
    "X_train, X_test, y_train, y_test = train_test_split(model_X, model_y, test_size=0.2, shuffle=True)"
   ]
  },
  {
   "cell_type": "code",
   "execution_count": 76,
   "metadata": {},
   "outputs": [],
   "source": [
    "# build model\n",
    "LR = LogisticRegression(max_iter=1000).fit(X_train, y_train.to_numpy().reshape(-1))"
   ]
  },
  {
   "cell_type": "code",
   "execution_count": 77,
   "metadata": {},
   "outputs": [
    {
     "data": {
      "text/plain": [
       "0.8222424794895169"
      ]
     },
     "execution_count": 77,
     "metadata": {},
     "output_type": "execute_result"
    }
   ],
   "source": [
    "# test prediction\n",
    "y_pred = LR.predict(X_test)\n",
    "sum((y_pred- y_test.to_numpy().reshape(1097))==0)/len(y_pred)"
   ]
  },
  {
   "cell_type": "code",
   "execution_count": 125,
   "metadata": {},
   "outputs": [],
   "source": [
    "def predict_prob(model, temp, windSpeed, precip, humid):\n",
    "    '''\n",
    "    given a model, [temp, windspeed, precipitation, humidity], predict the probability of wildfire\n",
    "    @temp: temperature\n",
    "    @windspeed: windspeed\n",
    "    @precip: precipitation\n",
    "    @humid: humidity\n",
    "    '''\n",
    "    assert precip >= 0\n",
    "    assert 0 <= humid <= 1\n",
    "    feature = np.array([temp, windSpeed, precip, humid]).reshape(1, -1)\n",
    "    prob = model.predict_proba(feature)[0][0]\n",
    "    print(f'probability of wildfire: {1-prob}')\n",
    "    return 1-prob"
   ]
  },
  {
   "cell_type": "code",
   "execution_count": 126,
   "metadata": {},
   "outputs": [],
   "source": [
    "def predict_prob_interact(temp, windSpeed, precip, humid):\n",
    "    '''\n",
    "    given a model, [temp, windspeed, precipitation, humidity], predict the probability of wildfire\n",
    "    @temp: temperature\n",
    "    @windspeed: windspeed\n",
    "    @precip: precipitation\n",
    "    @humid: humidity\n",
    "    '''\n",
    "    assert precip >= 0\n",
    "    assert 0 <= humid <= 1\n",
    "    model=LR\n",
    "    feature = np.array([temp, windSpeed, precip, humid]).reshape(1, -1)\n",
    "    prob = model.predict_proba(feature)[0][0]\n",
    "    print(f'probability of wildfire: {1-prob}')\n",
    "    return 1-prob"
   ]
  },
  {
   "cell_type": "code",
   "execution_count": 127,
   "metadata": {},
   "outputs": [
    {
     "name": "stdout",
     "output_type": "stream",
     "text": [
      "probability of wildfire: 0.039865195159208056\n"
     ]
    },
    {
     "data": {
      "text/plain": [
       "0.039865195159208056"
      ]
     },
     "execution_count": 127,
     "metadata": {},
     "output_type": "execute_result"
    }
   ],
   "source": [
    "predict_prob(LR, temp=7.889032, windSpeed=1.757097, precip=0.1, humid=0.3)"
   ]
  },
  {
   "cell_type": "code",
   "execution_count": 34,
   "metadata": {},
   "outputs": [],
   "source": [
    "from ipywidgets import interact, interactive, fixed, interact_manual\n",
    "import ipywidgets as widgets"
   ]
  },
  {
   "cell_type": "code",
   "execution_count": 129,
   "metadata": {},
   "outputs": [
    {
     "data": {
      "application/vnd.jupyter.widget-view+json": {
       "model_id": "89d3e08a6bfa4734acf528f30c221b80",
       "version_major": 2,
       "version_minor": 0
      },
      "text/plain": [
       "interactive(children=(FloatSlider(value=20.0, description='temp', max=40.0, step=1.0), FloatSlider(value=5.0, …"
      ]
     },
     "metadata": {},
     "output_type": "display_data"
    }
   ],
   "source": [
    "interact(predict_prob_interact, temp=(0,40.,1), windSpeed=(0,10,0.1), precip=(0,1,0.1), humid=(0,1,0.1));"
   ]
  },
  {
   "cell_type": "markdown",
   "metadata": {},
   "source": [
    "## Expected number of fire per county"
   ]
  },
  {
   "cell_type": "code",
   "execution_count": 3,
   "metadata": {},
   "outputs": [],
   "source": [
    "my_data = pd.read_csv('./Processed_County.csv')"
   ]
  },
  {
   "cell_type": "code",
   "execution_count": 5,
   "metadata": {},
   "outputs": [
    {
     "data": {
      "text/html": [
       "<div>\n",
       "<style scoped>\n",
       "    .dataframe tbody tr th:only-of-type {\n",
       "        vertical-align: middle;\n",
       "    }\n",
       "\n",
       "    .dataframe tbody tr th {\n",
       "        vertical-align: top;\n",
       "    }\n",
       "\n",
       "    .dataframe thead th {\n",
       "        text-align: right;\n",
       "    }\n",
       "</style>\n",
       "<table border=\"1\" class=\"dataframe\">\n",
       "  <thead>\n",
       "    <tr style=\"text-align: right;\">\n",
       "      <th></th>\n",
       "      <th>Unnamed: 0</th>\n",
       "      <th>incident_latitude</th>\n",
       "      <th>incident_longitude</th>\n",
       "      <th>incident_dateonly_created</th>\n",
       "      <th>incident_control</th>\n",
       "      <th>incident_containment</th>\n",
       "      <th>incident_acres_burned</th>\n",
       "      <th>incident_county</th>\n",
       "      <th>incident_name</th>\n",
       "      <th>calfire_incident</th>\n",
       "      <th>is_active</th>\n",
       "      <th>incident_id</th>\n",
       "      <th>incident_type</th>\n",
       "      <th>County</th>\n",
       "    </tr>\n",
       "  </thead>\n",
       "  <tbody>\n",
       "    <tr>\n",
       "      <th>0</th>\n",
       "      <td>0</td>\n",
       "      <td>40.774000</td>\n",
       "      <td>-122.309000</td>\n",
       "      <td>2017-10-31</td>\n",
       "      <td>NaN</td>\n",
       "      <td>100.0</td>\n",
       "      <td>37.0</td>\n",
       "      <td>Shasta</td>\n",
       "      <td>Bridge Fire</td>\n",
       "      <td>False</td>\n",
       "      <td>N</td>\n",
       "      <td>2ca11d45-8139-4c16-8af0-880d99b21e82</td>\n",
       "      <td>NaN</td>\n",
       "      <td>Shasta</td>\n",
       "    </tr>\n",
       "    <tr>\n",
       "      <th>1</th>\n",
       "      <td>1</td>\n",
       "      <td>1.000000</td>\n",
       "      <td>1.000000</td>\n",
       "      <td>2009-05-24</td>\n",
       "      <td>NaN</td>\n",
       "      <td>100.0</td>\n",
       "      <td>122.0</td>\n",
       "      <td>San Diego</td>\n",
       "      <td>Pala Fire</td>\n",
       "      <td>True</td>\n",
       "      <td>N</td>\n",
       "      <td>8f61f461-552d-4538-b186-35ab030da416</td>\n",
       "      <td>Wildfire</td>\n",
       "      <td>San Diego</td>\n",
       "    </tr>\n",
       "    <tr>\n",
       "      <th>2</th>\n",
       "      <td>2</td>\n",
       "      <td>36.602575</td>\n",
       "      <td>-118.016510</td>\n",
       "      <td>2013-02-24</td>\n",
       "      <td>NaN</td>\n",
       "      <td>100.0</td>\n",
       "      <td>406.0</td>\n",
       "      <td>Inyo</td>\n",
       "      <td>River Fire</td>\n",
       "      <td>True</td>\n",
       "      <td>N</td>\n",
       "      <td>094719ba-a47b-4abb-9ec5-a506b2b9fd23</td>\n",
       "      <td>NaN</td>\n",
       "      <td>Inyo</td>\n",
       "    </tr>\n",
       "    <tr>\n",
       "      <th>3</th>\n",
       "      <td>3</td>\n",
       "      <td>34.288877</td>\n",
       "      <td>-116.941311</td>\n",
       "      <td>2013-04-20</td>\n",
       "      <td>NaN</td>\n",
       "      <td>100.0</td>\n",
       "      <td>30.0</td>\n",
       "      <td>San Bernardino</td>\n",
       "      <td>Fawnskin Fire</td>\n",
       "      <td>False</td>\n",
       "      <td>N</td>\n",
       "      <td>58f89ff8-bd3e-4355-b1c0-8fa05c747d3f</td>\n",
       "      <td>NaN</td>\n",
       "      <td>San Bernardino</td>\n",
       "    </tr>\n",
       "    <tr>\n",
       "      <th>4</th>\n",
       "      <td>4</td>\n",
       "      <td>37.116295</td>\n",
       "      <td>-119.635004</td>\n",
       "      <td>2013-04-30</td>\n",
       "      <td>NaN</td>\n",
       "      <td>100.0</td>\n",
       "      <td>274.0</td>\n",
       "      <td>Madera</td>\n",
       "      <td>Gold Fire</td>\n",
       "      <td>True</td>\n",
       "      <td>N</td>\n",
       "      <td>357ffc13-bef9-48eb-810f-c5de851972eb</td>\n",
       "      <td>NaN</td>\n",
       "      <td>Madera</td>\n",
       "    </tr>\n",
       "  </tbody>\n",
       "</table>\n",
       "</div>"
      ],
      "text/plain": [
       "   Unnamed: 0  incident_latitude  incident_longitude  \\\n",
       "0           0          40.774000         -122.309000   \n",
       "1           1           1.000000            1.000000   \n",
       "2           2          36.602575         -118.016510   \n",
       "3           3          34.288877         -116.941311   \n",
       "4           4          37.116295         -119.635004   \n",
       "\n",
       "  incident_dateonly_created incident_control  incident_containment  \\\n",
       "0                2017-10-31              NaN                 100.0   \n",
       "1                2009-05-24              NaN                 100.0   \n",
       "2                2013-02-24              NaN                 100.0   \n",
       "3                2013-04-20              NaN                 100.0   \n",
       "4                2013-04-30              NaN                 100.0   \n",
       "\n",
       "   incident_acres_burned incident_county  incident_name  calfire_incident  \\\n",
       "0                   37.0          Shasta    Bridge Fire             False   \n",
       "1                  122.0       San Diego      Pala Fire              True   \n",
       "2                  406.0            Inyo     River Fire              True   \n",
       "3                   30.0  San Bernardino  Fawnskin Fire             False   \n",
       "4                  274.0          Madera      Gold Fire              True   \n",
       "\n",
       "  is_active                           incident_id incident_type  \\\n",
       "0         N  2ca11d45-8139-4c16-8af0-880d99b21e82           NaN   \n",
       "1         N  8f61f461-552d-4538-b186-35ab030da416      Wildfire   \n",
       "2         N  094719ba-a47b-4abb-9ec5-a506b2b9fd23           NaN   \n",
       "3         N  58f89ff8-bd3e-4355-b1c0-8fa05c747d3f           NaN   \n",
       "4         N  357ffc13-bef9-48eb-810f-c5de851972eb           NaN   \n",
       "\n",
       "           County  \n",
       "0          Shasta  \n",
       "1       San Diego  \n",
       "2            Inyo  \n",
       "3  San Bernardino  \n",
       "4          Madera  "
      ]
     },
     "execution_count": 5,
     "metadata": {},
     "output_type": "execute_result"
    }
   ],
   "source": [
    "my_data.head()"
   ]
  },
  {
   "cell_type": "code",
   "execution_count": 16,
   "metadata": {},
   "outputs": [],
   "source": [
    "my_data['month']=pd.to_datetime(my_data['incident_dateonly_created']).dt.month\n",
    "my_data['year']=pd.to_datetime(my_data['incident_dateonly_created']).dt.year"
   ]
  },
  {
   "cell_type": "code",
   "execution_count": 17,
   "metadata": {},
   "outputs": [],
   "source": [
    "county_occurances = my_data[['month','year', 'County']]\n"
   ]
  },
  {
   "cell_type": "code",
   "execution_count": 23,
   "metadata": {},
   "outputs": [],
   "source": [
    "total_res = county_occurances.groupby(county_occurances.columns.tolist(),as_index=False).size()"
   ]
  },
  {
   "cell_type": "code",
   "execution_count": 25,
   "metadata": {},
   "outputs": [
    {
     "data": {
      "text/html": [
       "<div>\n",
       "<style scoped>\n",
       "    .dataframe tbody tr th:only-of-type {\n",
       "        vertical-align: middle;\n",
       "    }\n",
       "\n",
       "    .dataframe tbody tr th {\n",
       "        vertical-align: top;\n",
       "    }\n",
       "\n",
       "    .dataframe thead th {\n",
       "        text-align: right;\n",
       "    }\n",
       "</style>\n",
       "<table border=\"1\" class=\"dataframe\">\n",
       "  <thead>\n",
       "    <tr style=\"text-align: right;\">\n",
       "      <th></th>\n",
       "      <th>month</th>\n",
       "      <th>year</th>\n",
       "      <th>County</th>\n",
       "      <th>size</th>\n",
       "    </tr>\n",
       "  </thead>\n",
       "  <tbody>\n",
       "    <tr>\n",
       "      <th>0</th>\n",
       "      <td>1</td>\n",
       "      <td>2014</td>\n",
       "      <td>Fresno</td>\n",
       "      <td>1</td>\n",
       "    </tr>\n",
       "    <tr>\n",
       "      <th>616</th>\n",
       "      <td>8</td>\n",
       "      <td>2017</td>\n",
       "      <td>San Bernardino</td>\n",
       "      <td>1</td>\n",
       "    </tr>\n",
       "    <tr>\n",
       "      <th>619</th>\n",
       "      <td>8</td>\n",
       "      <td>2017</td>\n",
       "      <td>Santa Clara</td>\n",
       "      <td>1</td>\n",
       "    </tr>\n",
       "    <tr>\n",
       "      <th>622</th>\n",
       "      <td>8</td>\n",
       "      <td>2017</td>\n",
       "      <td>Sonoma</td>\n",
       "      <td>1</td>\n",
       "    </tr>\n",
       "    <tr>\n",
       "      <th>626</th>\n",
       "      <td>8</td>\n",
       "      <td>2017</td>\n",
       "      <td>Yuba</td>\n",
       "      <td>1</td>\n",
       "    </tr>\n",
       "    <tr>\n",
       "      <th>...</th>\n",
       "      <td>...</td>\n",
       "      <td>...</td>\n",
       "      <td>...</td>\n",
       "      <td>...</td>\n",
       "    </tr>\n",
       "    <tr>\n",
       "      <th>615</th>\n",
       "      <td>8</td>\n",
       "      <td>2017</td>\n",
       "      <td>Riverside</td>\n",
       "      <td>8</td>\n",
       "    </tr>\n",
       "    <tr>\n",
       "      <th>820</th>\n",
       "      <td>9</td>\n",
       "      <td>2019</td>\n",
       "      <td>Riverside</td>\n",
       "      <td>8</td>\n",
       "    </tr>\n",
       "    <tr>\n",
       "      <th>426</th>\n",
       "      <td>7</td>\n",
       "      <td>2017</td>\n",
       "      <td>San Bernardino</td>\n",
       "      <td>8</td>\n",
       "    </tr>\n",
       "    <tr>\n",
       "      <th>423</th>\n",
       "      <td>7</td>\n",
       "      <td>2017</td>\n",
       "      <td>Riverside</td>\n",
       "      <td>9</td>\n",
       "    </tr>\n",
       "    <tr>\n",
       "      <th>215</th>\n",
       "      <td>6</td>\n",
       "      <td>2017</td>\n",
       "      <td>Riverside</td>\n",
       "      <td>11</td>\n",
       "    </tr>\n",
       "  </tbody>\n",
       "</table>\n",
       "<p>999 rows × 4 columns</p>\n",
       "</div>"
      ],
      "text/plain": [
       "     month  year          County  size\n",
       "0        1  2014          Fresno     1\n",
       "616      8  2017  San Bernardino     1\n",
       "619      8  2017     Santa Clara     1\n",
       "622      8  2017          Sonoma     1\n",
       "626      8  2017            Yuba     1\n",
       "..     ...   ...             ...   ...\n",
       "615      8  2017       Riverside     8\n",
       "820      9  2019       Riverside     8\n",
       "426      7  2017  San Bernardino     8\n",
       "423      7  2017       Riverside     9\n",
       "215      6  2017       Riverside    11\n",
       "\n",
       "[999 rows x 4 columns]"
      ]
     },
     "execution_count": 25,
     "metadata": {},
     "output_type": "execute_result"
    }
   ],
   "source": [
    "total_res.sort_values(by='size')"
   ]
  },
  {
   "cell_type": "code",
   "execution_count": 37,
   "metadata": {},
   "outputs": [],
   "source": [
    "def pred_occurances(county, month):\n",
    "    try:\n",
    "        res = total_res.groupby(by=['County', 'month']).mean()['size']\n",
    "        return res[county][month]\n",
    "    except:\n",
    "        return 0"
   ]
  },
  {
   "cell_type": "code",
   "execution_count": 38,
   "metadata": {},
   "outputs": [
    {
     "data": {
      "application/vnd.jupyter.widget-view+json": {
       "model_id": "04984369d93043a7b4159fd2218b9df0",
       "version_major": 2,
       "version_minor": 0
      },
      "text/plain": [
       "interactive(children=(Dropdown(description='county', options=('Alameda', 'Alpine', 'Amador', 'Butte', 'Calaver…"
      ]
     },
     "metadata": {},
     "output_type": "display_data"
    },
    {
     "data": {
      "text/plain": [
       "<function __main__.pred_occurances(county, month)>"
      ]
     },
     "execution_count": 38,
     "metadata": {},
     "output_type": "execute_result"
    }
   ],
   "source": [
    "Counties = ['Alameda','Alpine','Amador','Butte','Calaveras','Colusa','Contra Costa','Del Norte','El Dorado','Fresno','Glenn','Humboldt','Imperial','Inyo','Kern','Kings','Lake','Lassen','Los Angeles','Madera','Marin','Mariposa','Mendocino','Merced','Modoc','Mono','Monterey','Napa','Nevada','Orange','Placer','Plumas','Riverside','Sacramento','San Benito','San Bernardino','San Diego','San Francisco','San Joaquin','San Luis Obispo','San Mateo','Santa Barbara','Santa Clara','Santa Cruz','Shasta','Sierra','Siskiyou','Solano','Sonoma','Stanislaus','Sutter','Tehama','Trinity','Tulare','Tuolumne','Ventura','Yolo','Yuba']\n",
    "interact(pred_occurances, county=Counties, month=(1,12,1))"
   ]
  },
  {
   "cell_type": "markdown",
   "metadata": {},
   "source": [
    "## Previous"
   ]
  },
  {
   "cell_type": "code",
   "execution_count": 63,
   "metadata": {},
   "outputs": [],
   "source": [
    "X = all_data[['date','temperature (degC)','wind_speed (m/s)','total_precipitation (mm of water equivalent)','relative_humidity (0-1)','surface_pressure (Pa)','humidex (degC)','County']]\n",
    "y = all_data.y"
   ]
  },
  {
   "cell_type": "code",
   "execution_count": 67,
   "metadata": {},
   "outputs": [
    {
     "ename": "ValueError",
     "evalue": "could not convert string to float: '2013-07'",
     "output_type": "error",
     "traceback": [
      "\u001b[0;31m---------------------------------------------------------------------------\u001b[0m",
      "\u001b[0;31mValueError\u001b[0m                                Traceback (most recent call last)",
      "\u001b[0;32m<ipython-input-67-05b2d88fb90f>\u001b[0m in \u001b[0;36m<module>\u001b[0;34m\u001b[0m\n\u001b[0;32m----> 1\u001b[0;31m \u001b[0mLR\u001b[0m \u001b[0;34m=\u001b[0m \u001b[0mLogisticRegression\u001b[0m\u001b[0;34m(\u001b[0m\u001b[0mrandom_state\u001b[0m\u001b[0;34m=\u001b[0m\u001b[0;36m0\u001b[0m\u001b[0;34m,\u001b[0m \u001b[0msolver\u001b[0m\u001b[0;34m=\u001b[0m\u001b[0;34m'lbfgs'\u001b[0m\u001b[0;34m,\u001b[0m \u001b[0mmulti_class\u001b[0m\u001b[0;34m=\u001b[0m\u001b[0;34m'ovr'\u001b[0m\u001b[0;34m)\u001b[0m\u001b[0;34m.\u001b[0m\u001b[0mfit\u001b[0m\u001b[0;34m(\u001b[0m\u001b[0mX\u001b[0m\u001b[0;34m,\u001b[0m \u001b[0my\u001b[0m\u001b[0;34m)\u001b[0m\u001b[0;34m\u001b[0m\u001b[0;34m\u001b[0m\u001b[0m\n\u001b[0m\u001b[1;32m      2\u001b[0m \u001b[0mLR\u001b[0m\u001b[0;34m.\u001b[0m\u001b[0mpredict\u001b[0m\u001b[0;34m(\u001b[0m\u001b[0mX\u001b[0m\u001b[0;34m.\u001b[0m\u001b[0miloc\u001b[0m\u001b[0;34m[\u001b[0m\u001b[0;36m460\u001b[0m\u001b[0;34m:\u001b[0m\u001b[0;34m,\u001b[0m\u001b[0;34m:\u001b[0m\u001b[0;34m]\u001b[0m\u001b[0;34m)\u001b[0m\u001b[0;34m\u001b[0m\u001b[0;34m\u001b[0m\u001b[0m\n\u001b[1;32m      3\u001b[0m \u001b[0mround\u001b[0m\u001b[0;34m(\u001b[0m\u001b[0mLR\u001b[0m\u001b[0;34m.\u001b[0m\u001b[0mscore\u001b[0m\u001b[0;34m(\u001b[0m\u001b[0mX\u001b[0m\u001b[0;34m,\u001b[0m\u001b[0my\u001b[0m\u001b[0;34m)\u001b[0m\u001b[0;34m,\u001b[0m \u001b[0;36m4\u001b[0m\u001b[0;34m)\u001b[0m\u001b[0;34m\u001b[0m\u001b[0;34m\u001b[0m\u001b[0m\n",
      "\u001b[0;32m~/.local/lib/python3.6/site-packages/sklearn/linear_model/_logistic.py\u001b[0m in \u001b[0;36mfit\u001b[0;34m(self, X, y, sample_weight)\u001b[0m\n\u001b[1;32m   1342\u001b[0m         X, y = self._validate_data(X, y, accept_sparse='csr', dtype=_dtype,\n\u001b[1;32m   1343\u001b[0m                                    \u001b[0morder\u001b[0m\u001b[0;34m=\u001b[0m\u001b[0;34m\"C\"\u001b[0m\u001b[0;34m,\u001b[0m\u001b[0;34m\u001b[0m\u001b[0;34m\u001b[0m\u001b[0m\n\u001b[0;32m-> 1344\u001b[0;31m                                    accept_large_sparse=solver != 'liblinear')\n\u001b[0m\u001b[1;32m   1345\u001b[0m         \u001b[0mcheck_classification_targets\u001b[0m\u001b[0;34m(\u001b[0m\u001b[0my\u001b[0m\u001b[0;34m)\u001b[0m\u001b[0;34m\u001b[0m\u001b[0;34m\u001b[0m\u001b[0m\n\u001b[1;32m   1346\u001b[0m         \u001b[0mself\u001b[0m\u001b[0;34m.\u001b[0m\u001b[0mclasses_\u001b[0m \u001b[0;34m=\u001b[0m \u001b[0mnp\u001b[0m\u001b[0;34m.\u001b[0m\u001b[0munique\u001b[0m\u001b[0;34m(\u001b[0m\u001b[0my\u001b[0m\u001b[0;34m)\u001b[0m\u001b[0;34m\u001b[0m\u001b[0;34m\u001b[0m\u001b[0m\n",
      "\u001b[0;32m~/.local/lib/python3.6/site-packages/sklearn/base.py\u001b[0m in \u001b[0;36m_validate_data\u001b[0;34m(self, X, y, reset, validate_separately, **check_params)\u001b[0m\n\u001b[1;32m    430\u001b[0m                 \u001b[0my\u001b[0m \u001b[0;34m=\u001b[0m \u001b[0mcheck_array\u001b[0m\u001b[0;34m(\u001b[0m\u001b[0my\u001b[0m\u001b[0;34m,\u001b[0m \u001b[0;34m**\u001b[0m\u001b[0mcheck_y_params\u001b[0m\u001b[0;34m)\u001b[0m\u001b[0;34m\u001b[0m\u001b[0;34m\u001b[0m\u001b[0m\n\u001b[1;32m    431\u001b[0m             \u001b[0;32melse\u001b[0m\u001b[0;34m:\u001b[0m\u001b[0;34m\u001b[0m\u001b[0;34m\u001b[0m\u001b[0m\n\u001b[0;32m--> 432\u001b[0;31m                 \u001b[0mX\u001b[0m\u001b[0;34m,\u001b[0m \u001b[0my\u001b[0m \u001b[0;34m=\u001b[0m \u001b[0mcheck_X_y\u001b[0m\u001b[0;34m(\u001b[0m\u001b[0mX\u001b[0m\u001b[0;34m,\u001b[0m \u001b[0my\u001b[0m\u001b[0;34m,\u001b[0m \u001b[0;34m**\u001b[0m\u001b[0mcheck_params\u001b[0m\u001b[0;34m)\u001b[0m\u001b[0;34m\u001b[0m\u001b[0;34m\u001b[0m\u001b[0m\n\u001b[0m\u001b[1;32m    433\u001b[0m             \u001b[0mout\u001b[0m \u001b[0;34m=\u001b[0m \u001b[0mX\u001b[0m\u001b[0;34m,\u001b[0m \u001b[0my\u001b[0m\u001b[0;34m\u001b[0m\u001b[0;34m\u001b[0m\u001b[0m\n\u001b[1;32m    434\u001b[0m \u001b[0;34m\u001b[0m\u001b[0m\n",
      "\u001b[0;32m~/.local/lib/python3.6/site-packages/sklearn/utils/validation.py\u001b[0m in \u001b[0;36minner_f\u001b[0;34m(*args, **kwargs)\u001b[0m\n\u001b[1;32m     71\u001b[0m                           FutureWarning)\n\u001b[1;32m     72\u001b[0m         \u001b[0mkwargs\u001b[0m\u001b[0;34m.\u001b[0m\u001b[0mupdate\u001b[0m\u001b[0;34m(\u001b[0m\u001b[0;34m{\u001b[0m\u001b[0mk\u001b[0m\u001b[0;34m:\u001b[0m \u001b[0marg\u001b[0m \u001b[0;32mfor\u001b[0m \u001b[0mk\u001b[0m\u001b[0;34m,\u001b[0m \u001b[0marg\u001b[0m \u001b[0;32min\u001b[0m \u001b[0mzip\u001b[0m\u001b[0;34m(\u001b[0m\u001b[0msig\u001b[0m\u001b[0;34m.\u001b[0m\u001b[0mparameters\u001b[0m\u001b[0;34m,\u001b[0m \u001b[0margs\u001b[0m\u001b[0;34m)\u001b[0m\u001b[0;34m}\u001b[0m\u001b[0;34m)\u001b[0m\u001b[0;34m\u001b[0m\u001b[0;34m\u001b[0m\u001b[0m\n\u001b[0;32m---> 73\u001b[0;31m         \u001b[0;32mreturn\u001b[0m \u001b[0mf\u001b[0m\u001b[0;34m(\u001b[0m\u001b[0;34m**\u001b[0m\u001b[0mkwargs\u001b[0m\u001b[0;34m)\u001b[0m\u001b[0;34m\u001b[0m\u001b[0;34m\u001b[0m\u001b[0m\n\u001b[0m\u001b[1;32m     74\u001b[0m     \u001b[0;32mreturn\u001b[0m \u001b[0minner_f\u001b[0m\u001b[0;34m\u001b[0m\u001b[0;34m\u001b[0m\u001b[0m\n\u001b[1;32m     75\u001b[0m \u001b[0;34m\u001b[0m\u001b[0m\n",
      "\u001b[0;32m~/.local/lib/python3.6/site-packages/sklearn/utils/validation.py\u001b[0m in \u001b[0;36mcheck_X_y\u001b[0;34m(X, y, accept_sparse, accept_large_sparse, dtype, order, copy, force_all_finite, ensure_2d, allow_nd, multi_output, ensure_min_samples, ensure_min_features, y_numeric, estimator)\u001b[0m\n\u001b[1;32m    801\u001b[0m                     \u001b[0mensure_min_samples\u001b[0m\u001b[0;34m=\u001b[0m\u001b[0mensure_min_samples\u001b[0m\u001b[0;34m,\u001b[0m\u001b[0;34m\u001b[0m\u001b[0;34m\u001b[0m\u001b[0m\n\u001b[1;32m    802\u001b[0m                     \u001b[0mensure_min_features\u001b[0m\u001b[0;34m=\u001b[0m\u001b[0mensure_min_features\u001b[0m\u001b[0;34m,\u001b[0m\u001b[0;34m\u001b[0m\u001b[0;34m\u001b[0m\u001b[0m\n\u001b[0;32m--> 803\u001b[0;31m                     estimator=estimator)\n\u001b[0m\u001b[1;32m    804\u001b[0m     \u001b[0;32mif\u001b[0m \u001b[0mmulti_output\u001b[0m\u001b[0;34m:\u001b[0m\u001b[0;34m\u001b[0m\u001b[0;34m\u001b[0m\u001b[0m\n\u001b[1;32m    805\u001b[0m         y = check_array(y, accept_sparse='csr', force_all_finite=True,\n",
      "\u001b[0;32m~/.local/lib/python3.6/site-packages/sklearn/utils/validation.py\u001b[0m in \u001b[0;36minner_f\u001b[0;34m(*args, **kwargs)\u001b[0m\n\u001b[1;32m     71\u001b[0m                           FutureWarning)\n\u001b[1;32m     72\u001b[0m         \u001b[0mkwargs\u001b[0m\u001b[0;34m.\u001b[0m\u001b[0mupdate\u001b[0m\u001b[0;34m(\u001b[0m\u001b[0;34m{\u001b[0m\u001b[0mk\u001b[0m\u001b[0;34m:\u001b[0m \u001b[0marg\u001b[0m \u001b[0;32mfor\u001b[0m \u001b[0mk\u001b[0m\u001b[0;34m,\u001b[0m \u001b[0marg\u001b[0m \u001b[0;32min\u001b[0m \u001b[0mzip\u001b[0m\u001b[0;34m(\u001b[0m\u001b[0msig\u001b[0m\u001b[0;34m.\u001b[0m\u001b[0mparameters\u001b[0m\u001b[0;34m,\u001b[0m \u001b[0margs\u001b[0m\u001b[0;34m)\u001b[0m\u001b[0;34m}\u001b[0m\u001b[0;34m)\u001b[0m\u001b[0;34m\u001b[0m\u001b[0;34m\u001b[0m\u001b[0m\n\u001b[0;32m---> 73\u001b[0;31m         \u001b[0;32mreturn\u001b[0m \u001b[0mf\u001b[0m\u001b[0;34m(\u001b[0m\u001b[0;34m**\u001b[0m\u001b[0mkwargs\u001b[0m\u001b[0;34m)\u001b[0m\u001b[0;34m\u001b[0m\u001b[0;34m\u001b[0m\u001b[0m\n\u001b[0m\u001b[1;32m     74\u001b[0m     \u001b[0;32mreturn\u001b[0m \u001b[0minner_f\u001b[0m\u001b[0;34m\u001b[0m\u001b[0;34m\u001b[0m\u001b[0m\n\u001b[1;32m     75\u001b[0m \u001b[0;34m\u001b[0m\u001b[0m\n",
      "\u001b[0;32m~/.local/lib/python3.6/site-packages/sklearn/utils/validation.py\u001b[0m in \u001b[0;36mcheck_array\u001b[0;34m(array, accept_sparse, accept_large_sparse, dtype, order, copy, force_all_finite, ensure_2d, allow_nd, ensure_min_samples, ensure_min_features, estimator)\u001b[0m\n\u001b[1;32m    597\u001b[0m                     \u001b[0marray\u001b[0m \u001b[0;34m=\u001b[0m \u001b[0marray\u001b[0m\u001b[0;34m.\u001b[0m\u001b[0mastype\u001b[0m\u001b[0;34m(\u001b[0m\u001b[0mdtype\u001b[0m\u001b[0;34m,\u001b[0m \u001b[0mcasting\u001b[0m\u001b[0;34m=\u001b[0m\u001b[0;34m\"unsafe\"\u001b[0m\u001b[0;34m,\u001b[0m \u001b[0mcopy\u001b[0m\u001b[0;34m=\u001b[0m\u001b[0;32mFalse\u001b[0m\u001b[0;34m)\u001b[0m\u001b[0;34m\u001b[0m\u001b[0;34m\u001b[0m\u001b[0m\n\u001b[1;32m    598\u001b[0m                 \u001b[0;32melse\u001b[0m\u001b[0;34m:\u001b[0m\u001b[0;34m\u001b[0m\u001b[0;34m\u001b[0m\u001b[0m\n\u001b[0;32m--> 599\u001b[0;31m                     \u001b[0marray\u001b[0m \u001b[0;34m=\u001b[0m \u001b[0mnp\u001b[0m\u001b[0;34m.\u001b[0m\u001b[0masarray\u001b[0m\u001b[0;34m(\u001b[0m\u001b[0marray\u001b[0m\u001b[0;34m,\u001b[0m \u001b[0morder\u001b[0m\u001b[0;34m=\u001b[0m\u001b[0morder\u001b[0m\u001b[0;34m,\u001b[0m \u001b[0mdtype\u001b[0m\u001b[0;34m=\u001b[0m\u001b[0mdtype\u001b[0m\u001b[0;34m)\u001b[0m\u001b[0;34m\u001b[0m\u001b[0;34m\u001b[0m\u001b[0m\n\u001b[0m\u001b[1;32m    600\u001b[0m             \u001b[0;32mexcept\u001b[0m \u001b[0mComplexWarning\u001b[0m\u001b[0;34m:\u001b[0m\u001b[0;34m\u001b[0m\u001b[0;34m\u001b[0m\u001b[0m\n\u001b[1;32m    601\u001b[0m                 raise ValueError(\"Complex data not supported\\n\"\n",
      "\u001b[0;32m~/.local/lib/python3.6/site-packages/numpy/core/_asarray.py\u001b[0m in \u001b[0;36masarray\u001b[0;34m(a, dtype, order)\u001b[0m\n\u001b[1;32m     83\u001b[0m \u001b[0;34m\u001b[0m\u001b[0m\n\u001b[1;32m     84\u001b[0m     \"\"\"\n\u001b[0;32m---> 85\u001b[0;31m     \u001b[0;32mreturn\u001b[0m \u001b[0marray\u001b[0m\u001b[0;34m(\u001b[0m\u001b[0ma\u001b[0m\u001b[0;34m,\u001b[0m \u001b[0mdtype\u001b[0m\u001b[0;34m,\u001b[0m \u001b[0mcopy\u001b[0m\u001b[0;34m=\u001b[0m\u001b[0;32mFalse\u001b[0m\u001b[0;34m,\u001b[0m \u001b[0morder\u001b[0m\u001b[0;34m=\u001b[0m\u001b[0morder\u001b[0m\u001b[0;34m)\u001b[0m\u001b[0;34m\u001b[0m\u001b[0;34m\u001b[0m\u001b[0m\n\u001b[0m\u001b[1;32m     86\u001b[0m \u001b[0;34m\u001b[0m\u001b[0m\n\u001b[1;32m     87\u001b[0m \u001b[0;34m\u001b[0m\u001b[0m\n",
      "\u001b[0;32m~/.local/lib/python3.6/site-packages/pandas/core/generic.py\u001b[0m in \u001b[0;36m__array__\u001b[0;34m(self, dtype)\u001b[0m\n\u001b[1;32m   1776\u001b[0m \u001b[0;34m\u001b[0m\u001b[0m\n\u001b[1;32m   1777\u001b[0m     \u001b[0;32mdef\u001b[0m \u001b[0m__array__\u001b[0m\u001b[0;34m(\u001b[0m\u001b[0mself\u001b[0m\u001b[0;34m,\u001b[0m \u001b[0mdtype\u001b[0m\u001b[0;34m=\u001b[0m\u001b[0;32mNone\u001b[0m\u001b[0;34m)\u001b[0m \u001b[0;34m->\u001b[0m \u001b[0mnp\u001b[0m\u001b[0;34m.\u001b[0m\u001b[0mndarray\u001b[0m\u001b[0;34m:\u001b[0m\u001b[0;34m\u001b[0m\u001b[0;34m\u001b[0m\u001b[0m\n\u001b[0;32m-> 1778\u001b[0;31m         \u001b[0;32mreturn\u001b[0m \u001b[0mnp\u001b[0m\u001b[0;34m.\u001b[0m\u001b[0masarray\u001b[0m\u001b[0;34m(\u001b[0m\u001b[0mself\u001b[0m\u001b[0;34m.\u001b[0m\u001b[0m_values\u001b[0m\u001b[0;34m,\u001b[0m \u001b[0mdtype\u001b[0m\u001b[0;34m=\u001b[0m\u001b[0mdtype\u001b[0m\u001b[0;34m)\u001b[0m\u001b[0;34m\u001b[0m\u001b[0;34m\u001b[0m\u001b[0m\n\u001b[0m\u001b[1;32m   1779\u001b[0m \u001b[0;34m\u001b[0m\u001b[0m\n\u001b[1;32m   1780\u001b[0m     \u001b[0;32mdef\u001b[0m \u001b[0m__array_wrap__\u001b[0m\u001b[0;34m(\u001b[0m\u001b[0mself\u001b[0m\u001b[0;34m,\u001b[0m \u001b[0mresult\u001b[0m\u001b[0;34m,\u001b[0m \u001b[0mcontext\u001b[0m\u001b[0;34m=\u001b[0m\u001b[0;32mNone\u001b[0m\u001b[0;34m)\u001b[0m\u001b[0;34m:\u001b[0m\u001b[0;34m\u001b[0m\u001b[0;34m\u001b[0m\u001b[0m\n",
      "\u001b[0;32m~/.local/lib/python3.6/site-packages/numpy/core/_asarray.py\u001b[0m in \u001b[0;36masarray\u001b[0;34m(a, dtype, order)\u001b[0m\n\u001b[1;32m     83\u001b[0m \u001b[0;34m\u001b[0m\u001b[0m\n\u001b[1;32m     84\u001b[0m     \"\"\"\n\u001b[0;32m---> 85\u001b[0;31m     \u001b[0;32mreturn\u001b[0m \u001b[0marray\u001b[0m\u001b[0;34m(\u001b[0m\u001b[0ma\u001b[0m\u001b[0;34m,\u001b[0m \u001b[0mdtype\u001b[0m\u001b[0;34m,\u001b[0m \u001b[0mcopy\u001b[0m\u001b[0;34m=\u001b[0m\u001b[0;32mFalse\u001b[0m\u001b[0;34m,\u001b[0m \u001b[0morder\u001b[0m\u001b[0;34m=\u001b[0m\u001b[0morder\u001b[0m\u001b[0;34m)\u001b[0m\u001b[0;34m\u001b[0m\u001b[0;34m\u001b[0m\u001b[0m\n\u001b[0m\u001b[1;32m     86\u001b[0m \u001b[0;34m\u001b[0m\u001b[0m\n\u001b[1;32m     87\u001b[0m \u001b[0;34m\u001b[0m\u001b[0m\n",
      "\u001b[0;31mValueError\u001b[0m: could not convert string to float: '2013-07'"
     ]
    }
   ],
   "source": [
    "LR = LogisticRegression(random_state=0, solver='lbfgs', multi_class='ovr').fit(X, y)\n",
    "LR.predict(X.iloc[460:,:])\n",
    "round(LR.score(X,y), 4)"
   ]
  }
 ],
 "metadata": {
  "kernelspec": {
   "display_name": "Python 3",
   "language": "python",
   "name": "python3"
  },
  "language_info": {
   "codemirror_mode": {
    "name": "ipython",
    "version": 3
   },
   "file_extension": ".py",
   "mimetype": "text/x-python",
   "name": "python",
   "nbconvert_exporter": "python",
   "pygments_lexer": "ipython3",
   "version": "3.7.6"
  }
 },
 "nbformat": 4,
 "nbformat_minor": 4
}
